{
 "cells": [
  {
   "cell_type": "markdown",
   "metadata": {},
   "source": [
    "## 참고자료\n",
    "[왜 Python에는 GIL이 있을까? - 개발새발로그](https://dgkim5360.tistory.com/entry/understanding-the-global-interpreter-lock-of-cpython)  \n",
    "[\\[Python\\] Global Interpreter Lock (GIL) 에 대한 이야기 - alice](https://blog.naver.com/alice_k106/221566619995)"
   ]
  },
  {
   "cell_type": "markdown",
   "metadata": {},
   "source": [
    "### Race Condition"
   ]
  },
  {
   "cell_type": "code",
   "execution_count": 1,
   "metadata": {},
   "outputs": [
    {
     "name": "stdout",
     "output_type": "stream",
     "text": [
      "-7149\n"
     ]
    }
   ],
   "source": [
    "import threading\n",
    "\n",
    "x = 0 # A shared value\n",
    "\n",
    "def foo():\n",
    "    global x \n",
    "    for i in range(100000):\n",
    "        x += 1\n",
    "        \n",
    "def bar():\n",
    "    global x\n",
    "    for i in range(100000):\n",
    "        x -= 1\n",
    "        \n",
    "t1 = threading.Thread(target=foo)\n",
    "t2 = threading.Thread(target=bar)\n",
    "\n",
    "t1.start()\n",
    "t2.start()\n",
    "t1.join()\n",
    "t2.join() # Wait for completion\n",
    "\n",
    "print(x)"
   ]
  },
  {
   "cell_type": "markdown",
   "metadata": {},
   "source": [
    "전역변수 x에 2개의 쓰레드가 접근하면서 연산이 씹혀서 0이 나오지 않음."
   ]
  },
  {
   "cell_type": "markdown",
   "metadata": {},
   "source": [
    "### mutex\n",
    "프로세스 내에서 공유되는 메모리의 데이터를 여러개의 쓰레드가 동시에 수정하지 못하게 함."
   ]
  },
  {
   "cell_type": "markdown",
   "metadata": {},
   "source": [
    "``` C\n",
    "/*****************************************************************************\n",
    " * FILE: dotprod_mutex.c\n",
    " * DESCRIPTION: * This example program illustrates the use of mutex variables \n",
    " * in a threads program. This version was obtained by modifying the \n",
    " * serial version of the program (dotprod_serial.c) which performs a \n",
    " * dot product. The main data is made available to all threads through \n",
    " * a globally accessible structure. Each thread works on a different \n",
    " * part of the data. The main thread waits for all the threads to complete \n",
    " * their computations, and then it prints the resulting sum. \n",
    " * SOURCE: Vijay Sonnad, IBM \n",
    " * LAST REVISED: 01/29/09 Blaise Barney \n",
    " ******************************************************************************/ \n",
    "#include <pthread.h> \n",
    "#include <stdio.h> \n",
    "#include <stdlib.h> \n",
    "/* The following structure contains the necessary information \n",
    "to allow the function \"dotprod\" to access its input data and place \n",
    "its output into the structure. This structure is \n",
    "unchanged from the sequential version. */\n",
    "typedef struct {\n",
    "    double *a;\n",
    "    double *b;\n",
    "    double sum;\n",
    "    int veclen;\n",
    "} DOTDATA; \n",
    "\n",
    "/* Define globally accessible variables and a mutex */ \n",
    "#define NUMTHRDS 4 \n",
    "#define VECLEN 100000 \n",
    "DOTDATA dotstr; \n",
    "pthread_t callThd[NUMTHRDS];\n",
    "pthread_mutex_t mutexsum; \n",
    "/* The function dotprod is activated when the thread is created. \n",
    "As before, all input to this routine is obtained from a structure \n",
    "of type DOTDATA and all output from this function is written into \n",
    "this structure. The benefit of this approach is apparent for the \n",
    "multi-threaded program: when a thread is created we pass a single \n",
    "argument to the activated function - typically this argument is a \n",
    "thread number. All the other information required by the function \n",
    "is accessed from the globally accessible structure. */\n",
    "void *dotprod(void *arg) {\n",
    "    /* Define and use local variables for convenience */\n",
    "    int i, start, end, len;\n",
    "    long offset;\n",
    "    double mysum, *x, *y;\n",
    "    offset = (long) arg;\n",
    "    len = dotstr.veclen;\n",
    "    start = offset*len;\n",
    "    end = start + len;\n",
    "    x = dotstr.a;\n",
    "    y = dotstr.b;\n",
    "    /* Perform the dot product and assign result to the appropriate variable in the structure. */\n",
    "    mysum = 0;\n",
    "    for (i = start; i < end; i++) {\n",
    "        mysum += (x[i] * y[i]); \n",
    "        }\n",
    "    /* Lock a mutex prior to updating the value in the shared structure, and unlock it upon updating. */\n",
    "    pthread_mutex_lock(&mutexsum);\n",
    "    dotstr.sum += mysum;\n",
    "    printf(\"Thread %ld did %d to %d: mysum=%f global sum=%f\\n\",offset,start,end,mysum,dotstr.sum);\n",
    "    pthread_mutex_unlock(&mutexsum);\n",
    "\n",
    "    pthread_exit((void*) 0);\n",
    "} \n",
    "/* The main program creates threads which do all the work and then\n",
    "print out result upon completion. Before creating the threads,\n",
    "The input data is created. Since all threads update a shared structure,\n",
    "we need a mutex for mutual exclusion. The main thread needs to wait\n",
    "for all threads to complete, it waits for each one of the threads.\n",
    "We specify a thread attribute value that allow the main thread to\n",
    "join with the threads it creates. Note also that we free up handles\n",
    "when they are no longer needed. */ \n",
    "int main (int argc, char *argv[]) {\n",
    "    long i;\n",
    "    double *a, *b;\n",
    "    void *status;\n",
    "    pthread_attr_t attr;\n",
    "\n",
    "    /* Assign storage and initialize values */\n",
    "    a = (double*) malloc (NUMTHRDS*VECLEN*sizeof(double));\n",
    "    b = (double*) malloc (NUMTHRDS*VECLEN*sizeof(double));\n",
    "    for (i = 0; i < veclen*numthrds; i++) {\n",
    "        a[i]=1;\n",
    "        b[i]=a[i]; \n",
    "        }\n",
    "\n",
    "    dotstr.veclen = VECLEN;\n",
    "    dotstr.a = a;\n",
    "    dotstr.b = b;\n",
    "    dotstr.sum = 0;\n",
    "\n",
    "    pthread_mutex_init(&mutexsum, NULL);\n",
    "\n",
    "    /* create threads to perform the dotproduct */ \n",
    "    pthread_attr_init(&attr);\n",
    "    pthread_attr_setdetachstate(&attr, PTHREAD_CREATE_JOINABLE);\n",
    "\n",
    "    for (i = 0; i < NUMTHRDS; i++) {\n",
    "        /* Each thread works on a different set of data. \n",
    "        * The offset is specified by 'i'. The size of \n",
    "        * the data for each thread is indicated by VECLEN. */\n",
    "        pthread_create(&callThd[i], &attr, dotprod, (void *)i); \n",
    "    }\n",
    "\n",
    "    pthread_attr_destroy(&attr);\n",
    "\n",
    "    /* Wait on the other threads */\n",
    "    for (i = 0; i < NUMTHRDS; i++) {\n",
    "        pthread_join(callThd[i], &status); \n",
    "    }\n",
    "     \n",
    "    /* After joining, print out the results and cleanup */\n",
    "    printf (\"Sum = %f \\n\", dotstr.sum);\n",
    "    free (a);\n",
    "    free (b);\n",
    "    pthread_mutex_destroy(&mutexsum);\n",
    "    pthread_exit(NULL); \n",
    "}\n",
    "```"
   ]
  },
  {
   "cell_type": "markdown",
   "metadata": {},
   "source": [
    "4개 쓰레드로 구하는 a,b 원소의 곱의 총합"
   ]
  },
  {
   "cell_type": "markdown",
   "metadata": {},
   "source": [
    "``` C\n",
    "void *dotprod(void *arg) {\n",
    "    // ... \n",
    "    pthread_mutex_lock(&mutexsum);\n",
    "    dotstr.sum += mysum;\n",
    "    pthread_mutex_unlock(&mutexsum); \n",
    "    // ... \n",
    "}\n",
    "```\n",
    "1. 해당 쓰레드가 연산 중 다른 쓰레드가 코드를 진행해서 연산이 씹히지 않도록 mutex_lock\n",
    "2. 쓰레드에서 연산한 값을 dotstr.sum에 추가\n",
    "3. 다른 쓰레드가 마저 코드를 진행할 수 있게 mutex_unlock"
   ]
  },
  {
   "cell_type": "markdown",
   "metadata": {},
   "source": [
    "### Reference Counting\n",
    "\n",
    "CPython에서는 참조(reference)의 개수를 세는 방법으로 메모리를 관리함."
   ]
  },
  {
   "cell_type": "code",
   "execution_count": 6,
   "metadata": {},
   "outputs": [
    {
     "data": {
      "text/plain": [
       "3"
      ]
     },
     "execution_count": 6,
     "metadata": {},
     "output_type": "execute_result"
    }
   ],
   "source": [
    "import sys\n",
    "a = [] # a 선언.+ 1\n",
    "b = a # b에 a의 ref를 할당.+1\n",
    "sys.getrefcount(a) # sys.getrefcount()의 인자로 a 사용. +1"
   ]
  },
  {
   "cell_type": "markdown",
   "metadata": {},
   "source": [
    "참조의 개수는 총 3.  \n",
    "sys.getrefcount()가 종료된 시점에서 a의 참조 개수는 하나가 줄었으므로 2다."
   ]
  },
  {
   "cell_type": "markdown",
   "metadata": {},
   "source": [
    "### GIL"
   ]
  },
  {
   "cell_type": "markdown",
   "metadata": {},
   "source": [
    "* C에서의 Race Condition은 사용자가 방지해야함.\n",
    "* CPython은 메모리 관리 방법으로 Reference Counting 사용\n",
    "\n",
    "위 2개가 근본적인 이유.   \n",
    "Reference Counting 중 Race condition이 일어나면 메모리 릭, 손실 위험.  \n",
    "멀티쓰레딩을 도입할 경우 공유 메모리 상의 변수가 변경될 때마다 mutex_lock 필요 -> 성능이 저하.  \n",
    "결국 한 시점에 한 쓰레드만 사용하도록 설정(GIL)"
   ]
  },
  {
   "cell_type": "code",
   "execution_count": null,
   "metadata": {},
   "outputs": [],
   "source": []
  }
 ],
 "metadata": {
  "kernelspec": {
   "display_name": "Python 3",
   "language": "python",
   "name": "python3"
  },
  "language_info": {
   "codemirror_mode": {
    "name": "ipython",
    "version": 3
   },
   "file_extension": ".py",
   "mimetype": "text/x-python",
   "name": "python",
   "nbconvert_exporter": "python",
   "pygments_lexer": "ipython3",
   "version": "3.7.2"
  }
 },
 "nbformat": 4,
 "nbformat_minor": 2
}
