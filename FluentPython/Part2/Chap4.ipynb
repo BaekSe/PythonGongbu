{
 "cells": [
  {
   "cell_type": "markdown",
   "metadata": {
    "id": "aHs3QCKfkSXl"
   },
   "source": [
    "# Text versus Bytes"
   ]
  },
  {
   "cell_type": "markdown",
   "metadata": {
    "id": "eoSqq-7alaTR"
   },
   "source": [
    "## Character Issues"
   ]
  },
  {
   "cell_type": "markdown",
   "metadata": {
    "id": "Uj9Gd1doldJ-"
   },
   "source": [
    "#### Example 4-1. Encoding and Decoding"
   ]
  },
  {
   "cell_type": "code",
   "execution_count": 1,
   "metadata": {
    "colab": {
     "base_uri": "https://localhost:8080/",
     "height": 35
    },
    "id": "uKLP8drcjfn7",
    "outputId": "4fa1f56e-b6ac-429b-ca4e-f0c887ee29c9"
   },
   "outputs": [
    {
     "data": {
      "text/plain": [
       "4"
      ]
     },
     "execution_count": 1,
     "metadata": {},
     "output_type": "execute_result"
    }
   ],
   "source": [
    "s = 'café'\n",
    "len(s)"
   ]
  },
  {
   "cell_type": "code",
   "execution_count": 2,
   "metadata": {
    "colab": {
     "base_uri": "https://localhost:8080/",
     "height": 35
    },
    "id": "3VE5U1Mgk642",
    "outputId": "cda5043c-88e4-47cb-c6b3-a10779d5005c"
   },
   "outputs": [
    {
     "data": {
      "text/plain": [
       "b'caf\\xc3\\xa9'"
      ]
     },
     "execution_count": 2,
     "metadata": {},
     "output_type": "execute_result"
    }
   ],
   "source": [
    "b = s.encode('utf8')\n",
    "b"
   ]
  },
  {
   "cell_type": "code",
   "execution_count": 3,
   "metadata": {
    "colab": {
     "base_uri": "https://localhost:8080/",
     "height": 35
    },
    "id": "GSW2MPdclBXK",
    "outputId": "14c35650-a87d-4a9b-a615-5d969a57cd94"
   },
   "outputs": [
    {
     "data": {
      "text/plain": [
       "5"
      ]
     },
     "execution_count": 3,
     "metadata": {},
     "output_type": "execute_result"
    }
   ],
   "source": [
    "len(b) # é가 UTF-8로 2byte"
   ]
  },
  {
   "cell_type": "code",
   "execution_count": 4,
   "metadata": {
    "colab": {
     "base_uri": "https://localhost:8080/",
     "height": 35
    },
    "id": "VafQOAVAlDaB",
    "outputId": "e40d26f1-3d1f-4be7-b21c-e34b4e9e9027"
   },
   "outputs": [
    {
     "data": {
      "text/plain": [
       "'café'"
      ]
     },
     "execution_count": 4,
     "metadata": {},
     "output_type": "execute_result"
    }
   ],
   "source": [
    "b.decode('utf8')"
   ]
  },
  {
   "cell_type": "markdown",
   "metadata": {
    "id": "cKbf8VrHlQCb"
   },
   "source": [
    "## Byte Essentials\n",
    "\n",
    "이진 시퀀스에 사용되는 2가지 내장 자료형. 1바이트 정수를 연속적으로 저장.\n",
    "* bytes: 불변형\n",
    "* bytearray: 가변형"
   ]
  },
  {
   "cell_type": "markdown",
   "metadata": {
    "id": "ZJ7uY3k8mFdN"
   },
   "source": [
    "#### Example 4-2. A five-byte sequence as bytes and as bytearray"
   ]
  },
  {
   "cell_type": "code",
   "execution_count": 5,
   "metadata": {
    "colab": {
     "base_uri": "https://localhost:8080/",
     "height": 35
    },
    "id": "OZQY1lrYlF9w",
    "outputId": "b8d077f1-9405-42b9-9887-767bfe8f73b6"
   },
   "outputs": [
    {
     "data": {
      "text/plain": [
       "b'caf\\xc3\\xa9'"
      ]
     },
     "execution_count": 5,
     "metadata": {},
     "output_type": "execute_result"
    }
   ],
   "source": [
    "cafe = bytes('café', encoding='utf_8')\n",
    "cafe"
   ]
  },
  {
   "cell_type": "code",
   "execution_count": 6,
   "metadata": {
    "colab": {
     "base_uri": "https://localhost:8080/",
     "height": 35
    },
    "id": "cIiLd9m4mUbc",
    "outputId": "4a8cdce4-7442-403e-d130-1a2b21ddb806"
   },
   "outputs": [
    {
     "data": {
      "text/plain": [
       "99"
      ]
     },
     "execution_count": 6,
     "metadata": {},
     "output_type": "execute_result"
    }
   ],
   "source": [
    "cafe[0]"
   ]
  },
  {
   "cell_type": "code",
   "execution_count": 7,
   "metadata": {
    "colab": {
     "base_uri": "https://localhost:8080/",
     "height": 35
    },
    "id": "NN85TlWAmVab",
    "outputId": "05c42818-d270-48d5-b105-05dc67cb1606"
   },
   "outputs": [
    {
     "data": {
      "text/plain": [
       "b'c'"
      ]
     },
     "execution_count": 7,
     "metadata": {},
     "output_type": "execute_result"
    }
   ],
   "source": [
    "cafe[:1]"
   ]
  },
  {
   "cell_type": "code",
   "execution_count": 8,
   "metadata": {
    "colab": {
     "base_uri": "https://localhost:8080/",
     "height": 35
    },
    "id": "Kt83mj2umXOn",
    "outputId": "dd7680eb-d900-4013-fc4d-af810330a32b"
   },
   "outputs": [
    {
     "data": {
      "text/plain": [
       "bytearray(b'caf\\xc3\\xa9')"
      ]
     },
     "execution_count": 8,
     "metadata": {},
     "output_type": "execute_result"
    }
   ],
   "source": [
    "cafe_arr = bytearray(cafe)\n",
    "cafe_arr"
   ]
  },
  {
   "cell_type": "code",
   "execution_count": 9,
   "metadata": {
    "colab": {
     "base_uri": "https://localhost:8080/",
     "height": 35
    },
    "id": "i6MurAogmaRw",
    "outputId": "83635c12-3b1f-4dde-e623-7c36708cbad7"
   },
   "outputs": [
    {
     "data": {
      "text/plain": [
       "bytearray(b'\\xa9')"
      ]
     },
     "execution_count": 9,
     "metadata": {},
     "output_type": "execute_result"
    }
   ],
   "source": [
    "cafe_arr[-1:]"
   ]
  },
  {
   "cell_type": "markdown",
   "metadata": {
    "id": "SbrEL9c8mxXL"
   },
   "source": [
    "**cafe[0]은 정수가 cafe[:1]은 bytes가 반환되는 이유**  \n",
    "cafe[i]는 항목 하나를, cafe[i:i+1]는 해당되는 시퀀스를 동일한 자료형으로 반환.  \n",
    "bytes는 0-255사이의 정수가 들어간 시퀀스임.  \n",
    "s[0] == s[:1]이 성립하는 시퀀스형은 str이 유일."
   ]
  },
  {
   "cell_type": "markdown",
   "metadata": {
    "id": "YS-JprKeo9Qw"
   },
   "source": [
    "#### Example 4-3. Initializing bytes from the raw data of an array"
   ]
  },
  {
   "cell_type": "code",
   "execution_count": 10,
   "metadata": {
    "colab": {
     "base_uri": "https://localhost:8080/",
     "height": 35
    },
    "id": "epF1pTfImbtB",
    "outputId": "fdb66995-f93b-4d45-8e54-adcfc892e7c5"
   },
   "outputs": [
    {
     "data": {
      "text/plain": [
       "b'\\xfe\\xff\\xff\\xff\\x00\\x00\\x01\\x00\\x02\\x00'"
      ]
     },
     "execution_count": 10,
     "metadata": {},
     "output_type": "execute_result"
    }
   ],
   "source": [
    "import array\n",
    "numbers = array.array('h', [-2, -1, 0, 1, 2]) # short int(16bit)\n",
    "octets = bytes(numbers)\n",
    "octets # 10 bytes"
   ]
  },
  {
   "cell_type": "markdown",
   "metadata": {
    "id": "8kogUayVpuA8"
   },
   "source": [
    "### Structs and Memory Views"
   ]
  },
  {
   "cell_type": "markdown",
   "metadata": {
    "id": "1j9avQw6pcS5"
   },
   "source": [
    "#### Example 4-4. Using *memoryview* and *struct* to inpsect a GIF image header"
   ]
  },
  {
   "cell_type": "code",
   "execution_count": 11,
   "metadata": {
    "colab": {
     "base_uri": "https://localhost:8080/",
     "height": 35
    },
    "id": "Zs6qQJEuqzbL",
    "outputId": "b3ffd6aa-bf0f-4a2b-e1ae-7add765fea1d"
   },
   "outputs": [
    {
     "data": {
      "text/plain": [
       "b'GIF89ah\\x01h\\x01'"
      ]
     },
     "execution_count": 11,
     "metadata": {},
     "output_type": "execute_result"
    }
   ],
   "source": [
    "import struct\n",
    "fmt = '<3s3sHH'\n",
    "with open('../data/sample.gif', 'rb') as fp:\n",
    "  img = memoryview(fp.read())\n",
    "\n",
    "header = img[:10]\n",
    "bytes(header)"
   ]
  },
  {
   "cell_type": "code",
   "execution_count": 12,
   "metadata": {
    "colab": {
     "base_uri": "https://localhost:8080/",
     "height": 35
    },
    "id": "WEQ64kBorP4S",
    "outputId": "063478eb-25da-4e06-933e-e06e2c1d74f2"
   },
   "outputs": [
    {
     "data": {
      "text/plain": [
       "(b'GIF', b'89a', 360, 360)"
      ]
     },
     "execution_count": 12,
     "metadata": {},
     "output_type": "execute_result"
    }
   ],
   "source": [
    "struct.unpack(fmt, header)"
   ]
  },
  {
   "cell_type": "code",
   "execution_count": 13,
   "metadata": {
    "colab": {
     "base_uri": "https://localhost:8080/",
     "height": 218
    },
    "id": "L1KKS7IurQiH",
    "outputId": "dc42fa7f-e3ce-4954-f281-ff156fc83139"
   },
   "outputs": [],
   "source": [
    "# momoryview를 슬라이싱하면 바이트를 복사하지 않고 새로운 memoryview 객체를 반환.\n",
    "# 참조를 삭제해 memoryview 객체에 연결된 메모리 해제\n",
    "del header\n",
    "del img"
   ]
  },
  {
   "cell_type": "markdown",
   "metadata": {
    "id": "I4M1e_rjsEeC"
   },
   "source": [
    "## Basic Encoders/Decoders"
   ]
  },
  {
   "cell_type": "markdown",
   "metadata": {
    "id": "7eNYBt3osr9n"
   },
   "source": [
    "#### Example 4-5. The String 'El Niño' encoded with three codecs producing very different byte sequences"
   ]
  },
  {
   "cell_type": "code",
   "execution_count": 14,
   "metadata": {
    "colab": {
     "base_uri": "https://localhost:8080/",
     "height": 69
    },
    "id": "-gDOvRNns56U",
    "outputId": "c1eec3ec-9d1b-4501-ed97-e755b14d78e7"
   },
   "outputs": [
    {
     "name": "stdout",
     "output_type": "stream",
     "text": [
      "latin_1\tb'El Ni\\xf1o'\n",
      "utf_8\tb'El Ni\\xc3\\xb1o'\n",
      "utf_16\tb'\\xff\\xfeE\\x00l\\x00 \\x00N\\x00i\\x00\\xf1\\x00o\\x00'\n"
     ]
    }
   ],
   "source": [
    "for codec in ['latin_1', 'utf_8', 'utf_16']:\n",
    "  print(codec, 'El Niño'.encode(codec), sep='\\t')"
   ]
  },
  {
   "cell_type": "markdown",
   "metadata": {
    "id": "lvzBX1ZttHgM"
   },
   "source": [
    "## Understanding Encode/Decode Problems"
   ]
  },
  {
   "cell_type": "markdown",
   "metadata": {
    "id": "dizCTu9ytTnF"
   },
   "source": [
    "### Coping with UnicodeEncodeError"
   ]
  },
  {
   "cell_type": "markdown",
   "metadata": {
    "id": "C2nvDp0Otaup"
   },
   "source": [
    "#### Example 4-6.  Encoding to bytes: success and error handling"
   ]
  },
  {
   "cell_type": "code",
   "execution_count": 15,
   "metadata": {
    "colab": {
     "base_uri": "https://localhost:8080/",
     "height": 35
    },
    "id": "utUIKlB0tiD1",
    "outputId": "5fb540a9-172d-4adb-f48d-64a5e63da565"
   },
   "outputs": [
    {
     "data": {
      "text/plain": [
       "b'S\\xc3\\xa3o Paulo'"
      ]
     },
     "execution_count": 15,
     "metadata": {},
     "output_type": "execute_result"
    }
   ],
   "source": [
    "city = 'São Paulo'\n",
    "city.encode('utf_8')"
   ]
  },
  {
   "cell_type": "code",
   "execution_count": 16,
   "metadata": {
    "colab": {
     "base_uri": "https://localhost:8080/",
     "height": 35
    },
    "id": "dj-nKl7Otmpw",
    "outputId": "924a3fc4-f60f-46c6-897e-2075eed28a04"
   },
   "outputs": [
    {
     "data": {
      "text/plain": [
       "b'\\xff\\xfeS\\x00\\xe3\\x00o\\x00 \\x00P\\x00a\\x00u\\x00l\\x00o\\x00'"
      ]
     },
     "execution_count": 16,
     "metadata": {},
     "output_type": "execute_result"
    }
   ],
   "source": [
    "city.encode('utf_16')"
   ]
  },
  {
   "cell_type": "code",
   "execution_count": 17,
   "metadata": {
    "colab": {
     "base_uri": "https://localhost:8080/",
     "height": 35
    },
    "id": "0HxeJHdEtoUE",
    "outputId": "cb816bad-10ce-45c9-b244-c55a86e7721e"
   },
   "outputs": [
    {
     "data": {
      "text/plain": [
       "b'S\\xe3o Paulo'"
      ]
     },
     "execution_count": 17,
     "metadata": {},
     "output_type": "execute_result"
    }
   ],
   "source": [
    "city.encode('iso8859_1')"
   ]
  },
  {
   "cell_type": "code",
   "execution_count": 18,
   "metadata": {
    "colab": {
     "base_uri": "https://localhost:8080/",
     "height": 287
    },
    "id": "K0vrULbVtqOe",
    "outputId": "ccf014b0-ba46-45f4-f8f4-aace94b8e759"
   },
   "outputs": [
    {
     "ename": "UnicodeEncodeError",
     "evalue": "'charmap' codec can't encode character '\\xe3' in position 1: character maps to <undefined>",
     "output_type": "error",
     "traceback": [
      "\u001b[1;31m---------------------------------------------------------------------------\u001b[0m",
      "\u001b[1;31mUnicodeEncodeError\u001b[0m                        Traceback (most recent call last)",
      "\u001b[1;32m<ipython-input-18-064a572fd5b6>\u001b[0m in \u001b[0;36m<module>\u001b[1;34m\u001b[0m\n\u001b[1;32m----> 1\u001b[1;33m \u001b[0mcity\u001b[0m\u001b[1;33m.\u001b[0m\u001b[0mencode\u001b[0m\u001b[1;33m(\u001b[0m\u001b[1;34m'cp437'\u001b[0m\u001b[1;33m)\u001b[0m\u001b[1;33m\u001b[0m\u001b[1;33m\u001b[0m\u001b[0m\n\u001b[0m",
      "\u001b[1;32mc:\\users\\dan_m\\appdata\\local\\programs\\python\\python37-32\\lib\\encodings\\cp437.py\u001b[0m in \u001b[0;36mencode\u001b[1;34m(self, input, errors)\u001b[0m\n\u001b[0;32m     10\u001b[0m \u001b[1;33m\u001b[0m\u001b[0m\n\u001b[0;32m     11\u001b[0m     \u001b[1;32mdef\u001b[0m \u001b[0mencode\u001b[0m\u001b[1;33m(\u001b[0m\u001b[0mself\u001b[0m\u001b[1;33m,\u001b[0m\u001b[0minput\u001b[0m\u001b[1;33m,\u001b[0m\u001b[0merrors\u001b[0m\u001b[1;33m=\u001b[0m\u001b[1;34m'strict'\u001b[0m\u001b[1;33m)\u001b[0m\u001b[1;33m:\u001b[0m\u001b[1;33m\u001b[0m\u001b[1;33m\u001b[0m\u001b[0m\n\u001b[1;32m---> 12\u001b[1;33m         \u001b[1;32mreturn\u001b[0m \u001b[0mcodecs\u001b[0m\u001b[1;33m.\u001b[0m\u001b[0mcharmap_encode\u001b[0m\u001b[1;33m(\u001b[0m\u001b[0minput\u001b[0m\u001b[1;33m,\u001b[0m\u001b[0merrors\u001b[0m\u001b[1;33m,\u001b[0m\u001b[0mencoding_map\u001b[0m\u001b[1;33m)\u001b[0m\u001b[1;33m\u001b[0m\u001b[1;33m\u001b[0m\u001b[0m\n\u001b[0m\u001b[0;32m     13\u001b[0m \u001b[1;33m\u001b[0m\u001b[0m\n\u001b[0;32m     14\u001b[0m     \u001b[1;32mdef\u001b[0m \u001b[0mdecode\u001b[0m\u001b[1;33m(\u001b[0m\u001b[0mself\u001b[0m\u001b[1;33m,\u001b[0m\u001b[0minput\u001b[0m\u001b[1;33m,\u001b[0m\u001b[0merrors\u001b[0m\u001b[1;33m=\u001b[0m\u001b[1;34m'strict'\u001b[0m\u001b[1;33m)\u001b[0m\u001b[1;33m:\u001b[0m\u001b[1;33m\u001b[0m\u001b[1;33m\u001b[0m\u001b[0m\n",
      "\u001b[1;31mUnicodeEncodeError\u001b[0m: 'charmap' codec can't encode character '\\xe3' in position 1: character maps to <undefined>"
     ]
    }
   ],
   "source": [
    "city.encode('cp437')"
   ]
  },
  {
   "cell_type": "code",
   "execution_count": null,
   "metadata": {
    "colab": {
     "base_uri": "https://localhost:8080/",
     "height": 35
    },
    "id": "L1V9MMpmtt6W",
    "outputId": "d3c8d8ac-c2ca-4e4c-947c-699b7d23895d"
   },
   "outputs": [],
   "source": [
    "city.encode('cp437', errors='ignore')"
   ]
  },
  {
   "cell_type": "code",
   "execution_count": null,
   "metadata": {
    "colab": {
     "base_uri": "https://localhost:8080/",
     "height": 35
    },
    "id": "2wzgb7qht3EP",
    "outputId": "f3fcb178-1cc4-41a1-a74a-26a49a3ef79c"
   },
   "outputs": [],
   "source": [
    "city.encode('cp437', errors='replace')"
   ]
  },
  {
   "cell_type": "code",
   "execution_count": null,
   "metadata": {
    "colab": {
     "base_uri": "https://localhost:8080/",
     "height": 35
    },
    "id": "trcutYSMt4df",
    "outputId": "8081a76a-52d8-4bf0-b82c-69a9a14d74a7"
   },
   "outputs": [],
   "source": [
    "city.encode('cp437', errors='xmlcharrefreplace')"
   ]
  },
  {
   "cell_type": "markdown",
   "metadata": {
    "id": "c_MTVssIt7HX"
   },
   "source": [
    "### Coping with UnicodeDecodeError"
   ]
  },
  {
   "cell_type": "markdown",
   "metadata": {
    "id": "j7Z293YkuTrb"
   },
   "source": [
    "#### Example 4-7. illustrates how using the wrong codec may produce gremlins or a UnicodeDecodeError\n"
   ]
  },
  {
   "cell_type": "code",
   "execution_count": null,
   "metadata": {
    "colab": {
     "base_uri": "https://localhost:8080/",
     "height": 35
    },
    "id": "MXMMGcwguGAT",
    "outputId": "bbe57ecd-3e48-4818-985f-805ede4102af"
   },
   "outputs": [],
   "source": [
    "octets = b'Montr\\xe9al'\n",
    "octets.decode('cp1252')"
   ]
  },
  {
   "cell_type": "code",
   "execution_count": null,
   "metadata": {
    "colab": {
     "base_uri": "https://localhost:8080/",
     "height": 35
    },
    "id": "v4lLT8FDugd8",
    "outputId": "0d96884a-bcce-4f28-cc26-f80aa684a1aa"
   },
   "outputs": [],
   "source": [
    "octets.decode('iso8859_7')"
   ]
  },
  {
   "cell_type": "code",
   "execution_count": null,
   "metadata": {
    "colab": {
     "base_uri": "https://localhost:8080/",
     "height": 35
    },
    "id": "lCPL01iBulRv",
    "outputId": "4efb1046-ba1c-4c65-c886-2a35670a1a2b"
   },
   "outputs": [],
   "source": [
    "octets.decode('koi8_r')"
   ]
  },
  {
   "cell_type": "code",
   "execution_count": null,
   "metadata": {
    "colab": {
     "base_uri": "https://localhost:8080/",
     "height": 166
    },
    "id": "fY2Tci7zunES",
    "outputId": "9eaca559-a491-480d-a996-dd1e0da81c67"
   },
   "outputs": [],
   "source": [
    "octets.decode('utf_8')"
   ]
  },
  {
   "cell_type": "code",
   "execution_count": null,
   "metadata": {
    "colab": {
     "base_uri": "https://localhost:8080/",
     "height": 35
    },
    "id": "8eClCiAJuorm",
    "outputId": "3c4cd160-8a9a-49b0-965e-c44e0ee34c0f"
   },
   "outputs": [],
   "source": [
    "octets.decode('utf_8', errors='replace')"
   ]
  },
  {
   "cell_type": "markdown",
   "metadata": {
    "id": "mYB80J-qusjv"
   },
   "source": [
    "### SyntaxError When Loading Modules with Unexpected Encoding"
   ]
  },
  {
   "cell_type": "markdown",
   "metadata": {
    "id": "YIvDX0Z9u0qA"
   },
   "source": [
    "#### Example 4-8. ola.py: 'Hellow, World' in Porttuguese"
   ]
  },
  {
   "cell_type": "code",
   "execution_count": null,
   "metadata": {
    "colab": {
     "base_uri": "https://localhost:8080/",
     "height": 35
    },
    "id": "z6x_UPZSvBD8",
    "outputId": "e2e581c6-356f-467a-d89b-3cbac8f35c2e"
   },
   "outputs": [],
   "source": [
    "# coding: cp1252\n",
    "print('Olá, Mundo!')"
   ]
  },
  {
   "cell_type": "markdown",
   "metadata": {
    "id": "h8RGoFAPvFbT"
   },
   "source": [
    "### How to Discover the Encoding of a Byte Sequence  \n",
    "\n",
    "바이트 시퀀스의 인코딩 방식은 별도로 정보를 가져와야 알 수 있음. HTTP나 XML 같은 통신 프로토콜이나 파일포맷은 인코딩 방식을 명시하는 헤더를 포함하고 있음.  \n",
    "바이트스트림의 값의 범위 또는 퍁패턴을 통해 인코딩 방식 추정 가능.  \n",
    "*Chardet* 패키지를 이용해 30가지 인코딩 방식을 알아낼 수 있음."
   ]
  },
  {
   "cell_type": "markdown",
   "metadata": {
    "id": "-oVUPcrfyu1o"
   },
   "source": [
    "### BOM: A Useful Gremlin\n",
    "\n",
    "\n",
    "Example 4-5에서 utf16 인코딩 앞의 b'\\xff\\xfe'는 바이트 표기 순서 표시(BOM). 인코딩한 인텔 CPU의 '리틀엔디언' 바이트 순서를 나타냄.  "
   ]
  },
  {
   "cell_type": "code",
   "execution_count": null,
   "metadata": {
    "colab": {
     "base_uri": "https://localhost:8080/",
     "height": 35
    },
    "id": "Kdc7EeZIzhaF",
    "outputId": "d805f784-1985-48f3-a27e-91a54f9e9ceb"
   },
   "outputs": [],
   "source": [
    "u16 = 'El Niño'.encode('utf_16')\n",
    "u16"
   ]
  },
  {
   "cell_type": "markdown",
   "metadata": {
    "id": "vPrNP_8QzuQM"
   },
   "source": [
    "**ZERO WIDTH NO-BREAK SPACE**\n",
    "\n",
    "utf-16 인코딩은 빅엔디언과 리틀엔디언 cpu 간의 혼란을 방지하기 위해 이 문자를 인코딩된 텍스트 앞에 붙임.  \n",
    "리틀엔디언 또는 빅엔디언을 명시하는 UTF-16LE, UTF-16BE 변형을 사용할 경우 BOM 생성 X\n"
   ]
  },
  {
   "cell_type": "code",
   "execution_count": null,
   "metadata": {
    "colab": {
     "base_uri": "https://localhost:8080/",
     "height": 35
    },
    "id": "AU8k20vVz9b4",
    "outputId": "b84c4309-6f7e-4c1b-b088-f93fe43d851e"
   },
   "outputs": [],
   "source": [
    "# little endian\n",
    "u16le = 'El Niño'.encode('utf_16le')\n",
    "u16le"
   ]
  },
  {
   "cell_type": "code",
   "execution_count": null,
   "metadata": {
    "colab": {
     "base_uri": "https://localhost:8080/",
     "height": 35
    },
    "id": "9gJCKJPL0G1v",
    "outputId": "94cd5d1b-d0f5-4099-b595-5fae323cf504"
   },
   "outputs": [],
   "source": [
    "# big endian\n",
    "u16be = 'El Niño'.encode('utf_16be')\n",
    "u16be"
   ]
  },
  {
   "cell_type": "code",
   "execution_count": null,
   "metadata": {
    "colab": {
     "base_uri": "https://localhost:8080/",
     "height": 35
    },
    "id": "geeCV6pH0Mvx",
    "outputId": "83c25092-f66f-4c76-d88a-ccbe13e64b16"
   },
   "outputs": [],
   "source": [
    "u16le"
   ]
  },
  {
   "cell_type": "markdown",
   "metadata": {
    "id": "0Fzcttlq2XgG"
   },
   "source": [
    "## Handling Text Files\n",
    "\n",
    "**유니코드 샌드위치**:  텍스트를 처리할 때 최고의 순서\n",
    "\n",
    "1. bytes를 str로 변환\n",
    "2. str 객체로만 작업\n",
    "3. str 객체를 bytes로 변환"
   ]
  },
  {
   "cell_type": "markdown",
   "metadata": {
    "id": "g4xJx8k529NM"
   },
   "source": [
    "#### Example 4-9. A platform encoding issue"
   ]
  },
  {
   "cell_type": "code",
   "execution_count": null,
   "metadata": {
    "colab": {
     "base_uri": "https://localhost:8080/",
     "height": 35
    },
    "id": "Z0gPrbOU3YR4",
    "outputId": "cc73afec-61b8-4ca1-b8c3-794eb9f2300f"
   },
   "outputs": [],
   "source": [
    "open('cafe.txt', 'w', encoding='utf_8').write('café')\n",
    "open('cafe.txt', encoding='cp1252').read()"
   ]
  },
  {
   "cell_type": "markdown",
   "metadata": {
    "id": "qb5chrK73iqX"
   },
   "source": [
    "#### Example 4-10. Closer inspection of Example 4-9 running on Windows reveals the bug and how to fix it"
   ]
  },
  {
   "cell_type": "code",
   "execution_count": null,
   "metadata": {
    "colab": {
     "base_uri": "https://localhost:8080/",
     "height": 35
    },
    "id": "uwU9-Dxs4Kvm",
    "outputId": "68330267-7871-4ae0-b4a3-5557011d5c34"
   },
   "outputs": [],
   "source": [
    "fp = open('cafe.txt', 'w', encoding='utf-8')\n",
    "fp"
   ]
  },
  {
   "cell_type": "code",
   "execution_count": null,
   "metadata": {
    "id": "rKpDslRY4PC0"
   },
   "outputs": [],
   "source": [
    "fp.write('café')\n",
    "fp.close()"
   ]
  },
  {
   "cell_type": "code",
   "execution_count": null,
   "metadata": {
    "colab": {
     "base_uri": "https://localhost:8080/",
     "height": 35
    },
    "id": "ODurV5SQ4buq",
    "outputId": "5ea7b5b4-db4e-4663-f7ae-20cd72c6c856"
   },
   "outputs": [],
   "source": [
    "import os\n",
    "os.stat('cafe.txt').st_size"
   ]
  },
  {
   "cell_type": "code",
   "execution_count": null,
   "metadata": {
    "colab": {
     "base_uri": "https://localhost:8080/",
     "height": 35
    },
    "id": "naK_Jnhi4eot",
    "outputId": "323f5d6b-b085-4a2f-febc-f5951ae4cc91"
   },
   "outputs": [],
   "source": [
    "fp2 = open('cafe.txt', encoding='cp1252')\n",
    "fp2"
   ]
  },
  {
   "cell_type": "code",
   "execution_count": null,
   "metadata": {
    "colab": {
     "base_uri": "https://localhost:8080/",
     "height": 35
    },
    "id": "-1X1E3rw4kir",
    "outputId": "4c674650-c907-4ec7-e1ed-e2e8af374e4a"
   },
   "outputs": [],
   "source": [
    "fp2.read()"
   ]
  },
  {
   "cell_type": "code",
   "execution_count": null,
   "metadata": {
    "colab": {
     "base_uri": "https://localhost:8080/",
     "height": 35
    },
    "id": "Pl171WBF43Dm",
    "outputId": "97ca5071-5ab8-4a6c-9392-329c76441f4f"
   },
   "outputs": [],
   "source": [
    "fp3 = open('cafe.txt', encoding='utf_8')\n",
    "fp3"
   ]
  },
  {
   "cell_type": "code",
   "execution_count": null,
   "metadata": {
    "colab": {
     "base_uri": "https://localhost:8080/",
     "height": 35
    },
    "id": "LOSMLQfS48rX",
    "outputId": "7e6bf31a-1013-42a4-ba18-23b725e86717"
   },
   "outputs": [],
   "source": [
    "fp3.read()"
   ]
  },
  {
   "cell_type": "code",
   "execution_count": null,
   "metadata": {
    "colab": {
     "base_uri": "https://localhost:8080/",
     "height": 35
    },
    "id": "5_yQxPV24989",
    "outputId": "dcc5038c-e177-4b5c-d863-42cbaa9a4f4f"
   },
   "outputs": [],
   "source": [
    "fp4 = open('cafe.txt', 'rb')\n",
    "fp4.read()"
   ]
  },
  {
   "cell_type": "markdown",
   "metadata": {
    "id": "b734wmav5Cte"
   },
   "source": [
    "### Encoding Defaults: Madhouse"
   ]
  },
  {
   "cell_type": "markdown",
   "metadata": {
    "id": "93IC3XMF5O_6"
   },
   "source": [
    "#### Example 4-11. Exploring encoding defaults"
   ]
  },
  {
   "cell_type": "code",
   "execution_count": null,
   "metadata": {
    "colab": {
     "base_uri": "https://localhost:8080/",
     "height": 207
    },
    "id": "1T12TLyd5T7k",
    "outputId": "ca7a7dda-0ea3-44c5-a65e-df4540148fed"
   },
   "outputs": [],
   "source": [
    "import sys, locale\n",
    "\n",
    "expressions = \"\"\"\n",
    "  locale.getpreferredencoding()\n",
    "  type(my_file)\n",
    "  my_file.encoding\n",
    "  sys.stdout.isatty()\n",
    "  sys.stdout.encoding\n",
    "  sys.stdin.isatty()\n",
    "  sys.stdin.encoding\n",
    "  sys.stderr.isatty()\n",
    "  sys.stderr.encoding\n",
    "  sys.getdefaultencoding()\n",
    "  sys.getfilesystemencoding()\n",
    "\"\"\"\n",
    "\n",
    "my_file = open('dummy', 'w')\n",
    "\n",
    "for expression in expressions.split():\n",
    "  value = eval(expression)\n",
    "  print(expression.rjust(30), '->', repr(value))"
   ]
  },
  {
   "cell_type": "code",
   "execution_count": null,
   "metadata": {
    "colab": {
     "base_uri": "https://localhost:8080/",
     "height": 35
    },
    "id": "RxRD4Yug5qYd",
    "outputId": "0400abcc-5533-49eb-d41f-6968ee274f8c"
   },
   "outputs": [],
   "source": [
    "eval(\"locale.getpreferredencoding()\")"
   ]
  },
  {
   "cell_type": "markdown",
   "metadata": {
    "id": "Q7QyCuKR5-WO"
   },
   "source": [
    "## Normalizing Unicode for Saner Comparisons\n",
    "\n",
    "유니코드는 결합 문자가 있어 문자열 비교가 간단하지 않음. (출력은 같으나 코드 포인트가 다름)  \n",
    "unicodedata.normalize()를 이용해 유니코드 정규화가 필요.  \n",
    "\n",
    "정규화 방법  \n",
    "* NFC: 코드 포인트를 조합해서 가장 짧은 동일 문자열 생성.  \n",
    "* NFD: 조합된 문자를 기본 문자와 별도의 결합 문자로 분리.\n",
    "* NFKC, NFKD: 호환성 문자에 영향을 미침 -> 다른 표준(e.g. µ, ℀)의 상호변환을 지원하기 위한 문자"
   ]
  },
  {
   "cell_type": "code",
   "execution_count": null,
   "metadata": {
    "colab": {
     "base_uri": "https://localhost:8080/",
     "height": 69
    },
    "id": "7RSK8DNA69BX",
    "outputId": "c2f3263b-b1a8-4775-99be-a7e3aa2fb4a4"
   },
   "outputs": [],
   "source": [
    "s1 = 'café'\n",
    "s2 = 'cafe\\u0301'\n",
    "print(s1, s2)\n",
    "print(len(s1), len(s2))\n",
    "print(s1==s2)"
   ]
  },
  {
   "cell_type": "code",
   "execution_count": null,
   "metadata": {
    "colab": {
     "base_uri": "https://localhost:8080/",
     "height": 86
    },
    "id": "2Xgq9nG87VRx",
    "outputId": "8d66a3df-119e-4b70-a40c-8afd395af1ed"
   },
   "outputs": [],
   "source": [
    "# 결합문자\n",
    "from unicodedata import normalize\n",
    "s1 = 'café'\n",
    "s2 = 'cafe\\u0301'\n",
    "print(len(normalize('NFC', s1)), len(normalize('NFC', s2)))\n",
    "print(len(normalize('NFD', s1)), len(normalize('NFD', s2)))\n",
    "print(normalize('NFC', s1) == normalize('NFC', s2))\n",
    "print(normalize('NFD', s1) == normalize('NFD', s2))"
   ]
  },
  {
   "cell_type": "code",
   "execution_count": null,
   "metadata": {
    "colab": {
     "base_uri": "https://localhost:8080/",
     "height": 86
    },
    "id": "hq_EIjl97wmE",
    "outputId": "f8d04e53-46c3-456e-f2df-6353fa398af8"
   },
   "outputs": [],
   "source": [
    "# 단일문자\n",
    "from unicodedata import normalize, name\n",
    "ohm = '\\u2126'\n",
    "print(name(ohm))\n",
    "\n",
    "ohm_c = normalize('NFC', ohm)\n",
    "print(name(ohm_c))\n",
    "\n",
    "print(ohm == ohm_c)\n",
    "print(normalize('NFC', ohm) == normalize('NFC', ohm))"
   ]
  },
  {
   "cell_type": "code",
   "execution_count": null,
   "metadata": {
    "colab": {
     "base_uri": "https://localhost:8080/",
     "height": 104
    },
    "id": "2XnM1XHS8NPs",
    "outputId": "e9d2e830-8d0f-47ef-88a4-e8d58b5ebdd4"
   },
   "outputs": [],
   "source": [
    "# NFKC\n",
    "from unicodedata import normalize, name\n",
    "\n",
    "half = '½'\n",
    "print(normalize('NFKC', half))\n",
    "four_squared = '4²'\n",
    "print(normalize('NFKC', four_squared))\n",
    "\n",
    "micro = 'µ'\n",
    "micro_kc = normalize('NFKC', micro)\n",
    "print(micro, micro_kc)\n",
    "print(ord(micro), ord(micro_kc))\n",
    "print(name(micro), name(micro_kc))"
   ]
  },
  {
   "cell_type": "code",
   "execution_count": null,
   "metadata": {
    "id": "6R0IJkVB_gu1"
   },
   "outputs": [],
   "source": []
  }
 ],
 "metadata": {
  "colab": {
   "collapsed_sections": [],
   "name": "Chap4.ipynb",
   "provenance": []
  },
  "kernelspec": {
   "display_name": "Python 3",
   "language": "python",
   "name": "python3"
  },
  "language_info": {
   "codemirror_mode": {
    "name": "ipython",
    "version": 3
   },
   "file_extension": ".py",
   "mimetype": "text/x-python",
   "name": "python",
   "nbconvert_exporter": "python",
   "pygments_lexer": "ipython3",
   "version": "3.7.2"
  }
 },
 "nbformat": 4,
 "nbformat_minor": 1
}
