{
 "cells": [
  {
   "cell_type": "markdown",
   "metadata": {},
   "source": [
    "# Design Patterns with First-Class Funcitons"
   ]
  },
  {
   "cell_type": "markdown",
   "metadata": {},
   "source": [
    "## Case Study: Refactoring Strategy"
   ]
  },
  {
   "cell_type": "markdown",
   "metadata": {},
   "source": [
    "### Classic Strategy"
   ]
  },
  {
   "cell_type": "markdown",
   "metadata": {},
   "source": [
    "[전략 디자인 패턴 UML class diagram](https://upload.wikimedia.org/wikipedia/commons/4/45/W3sDesign_Strategy_Design_Pattern_UML.jpg)"
   ]
  },
  {
   "cell_type": "markdown",
   "metadata": {},
   "source": [
    "#### Example 6-1. Implementation Order class with pluggable discount strategies"
   ]
  },
  {
   "cell_type": "code",
   "execution_count": 1,
   "metadata": {},
   "outputs": [],
   "source": [
    "from abc import ABC, abstractmethod\n",
    "from collections import namedtuple\n",
    "\n",
    "Customer = namedtuple('Customer', 'name fidelity')\n",
    "\n",
    "class LineItem:\n",
    "    \n",
    "    def __init__(self, product, quantity, price):\n",
    "        self.product = product\n",
    "        self.quantity = quantity\n",
    "        self.price = price\n",
    "        \n",
    "    def total(self):\n",
    "        return self.price * self.quantity\n",
    "    \n",
    "class Order: # the Context\n",
    "    \n",
    "    def __init__(self, customer, cart, promotion=None):\n",
    "        self.customer = customer\n",
    "        self.cart = list(cart)\n",
    "        self.promotion = promotion\n",
    "        \n",
    "    def total(self):\n",
    "        if not hasattr(self, '__total'):\n",
    "            self.__total = sum(item.total() for item in self.cart)\n",
    "        return self.__total\n",
    "\n",
    "    def due(self):\n",
    "        if self.promotion is None:\n",
    "            discount = 0\n",
    "        else:\n",
    "            discount = self.promotion.discount(self)\n",
    "        return self.total() - discount\n",
    "    \n",
    "    def __repr__(self):\n",
    "        fmt = '<Order total: {:.2f} due: {:.2f}>'\n",
    "        return fmt.format(self.total(), self.due())\n",
    "    \n",
    "class Promotion(ABC): # the Strategy: an abstract base class\n",
    "    \n",
    "    @abstractmethod\n",
    "    def discount(self, order):\n",
    "        \"\"\"Return discount as a positive dollar amount\"\"\"\n",
    "\n",
    "class FidelityPromo(Promotion): # first Concrete Strategy\n",
    "    \"\"\"5% discount for customers with 1000 or more fidelity points\"\"\"\n",
    "    \n",
    "    def discount(self, order):\n",
    "        return order.total() * 0.05 if order.customer.fidelity >= 1000 else 0\n",
    "    \n",
    "class BulkItemPromo(Promotion): # second Concrete Strategy\n",
    "    \"\"\"10% discount for each LineItem with 20 or more units\"\"\"\n",
    "    \n",
    "    def discount(self, order):\n",
    "        discount = 0\n",
    "        for item in order.cart:\n",
    "            if item.quantity >= 20:\n",
    "                discount += item.total() * .1\n",
    "        return discount\n",
    "    \n",
    "class LargeOrderPromo(Promotion): # third Concrete Strategy\n",
    "    \"\"\"7% discount for each LineItem with 20 or more units\"\"\"\n",
    "    \n",
    "    def discount(self, order):\n",
    "        distinct_items = {item.product for item in order.cart}\n",
    "        if len(distinct_items) >= 10:\n",
    "            return order.total() * .07\n",
    "        return 0"
   ]
  },
  {
   "cell_type": "markdown",
   "metadata": {},
   "source": [
    "#### Example 6-2. Sample usage of Order class with different promotions applied"
   ]
  },
  {
   "cell_type": "code",
   "execution_count": 2,
   "metadata": {},
   "outputs": [],
   "source": [
    "joe = Customer('John Doe', 0)\n",
    "ann = Customer('Ann Smith', 1100)"
   ]
  },
  {
   "cell_type": "code",
   "execution_count": 3,
   "metadata": {},
   "outputs": [],
   "source": [
    "cart = [LineItem('banana', 4, .5),\n",
    "       LineItem('apple', 10, 1.5),\n",
    "       LineItem('watermellon', 5, 5.0)]"
   ]
  },
  {
   "cell_type": "code",
   "execution_count": 4,
   "metadata": {},
   "outputs": [
    {
     "data": {
      "text/plain": [
       "<Order total: 42.00 due: 42.00>"
      ]
     },
     "execution_count": 4,
     "metadata": {},
     "output_type": "execute_result"
    }
   ],
   "source": [
    "Order(joe, cart, FidelityPromo())"
   ]
  },
  {
   "cell_type": "code",
   "execution_count": 5,
   "metadata": {},
   "outputs": [
    {
     "data": {
      "text/plain": [
       "<Order total: 42.00 due: 39.90>"
      ]
     },
     "execution_count": 5,
     "metadata": {},
     "output_type": "execute_result"
    }
   ],
   "source": [
    "Order(ann, cart, FidelityPromo())"
   ]
  },
  {
   "cell_type": "code",
   "execution_count": 6,
   "metadata": {},
   "outputs": [
    {
     "data": {
      "text/plain": [
       "<Order total: 30.00 due: 28.50>"
      ]
     },
     "execution_count": 6,
     "metadata": {},
     "output_type": "execute_result"
    }
   ],
   "source": [
    "banana_cart = [LineItem('banana', 30, .5),\n",
    "              LineItem('apple', 10, 1.5)]\n",
    "Order(joe, banana_cart, BulkItemPromo())"
   ]
  },
  {
   "cell_type": "code",
   "execution_count": 7,
   "metadata": {},
   "outputs": [
    {
     "data": {
      "text/plain": [
       "<Order total: 10.00 due: 9.30>"
      ]
     },
     "execution_count": 7,
     "metadata": {},
     "output_type": "execute_result"
    }
   ],
   "source": [
    "long_order = [LineItem(str(item_code), 1, 1.0) for item_code in range(10)]\n",
    "Order(joe, long_order, LargeOrderPromo())"
   ]
  },
  {
   "cell_type": "code",
   "execution_count": 8,
   "metadata": {},
   "outputs": [
    {
     "data": {
      "text/plain": [
       "<Order total: 42.00 due: 42.00>"
      ]
     },
     "execution_count": 8,
     "metadata": {},
     "output_type": "execute_result"
    }
   ],
   "source": [
    "Order(joe, cart, LargeOrderPromo())"
   ]
  },
  {
   "cell_type": "markdown",
   "metadata": {},
   "source": [
    "### Function-Oriented Strategy\n",
    "전략 개체를 함수로 변경 및 Promotion 추상 클래스 제거"
   ]
  },
  {
   "cell_type": "markdown",
   "metadata": {},
   "source": [
    "#### Example 6-3. Order clas with discount strategies implemented as functions"
   ]
  },
  {
   "cell_type": "code",
   "execution_count": 9,
   "metadata": {},
   "outputs": [],
   "source": [
    "from collections import namedtuple\n",
    "\n",
    "Customer = namedtuple('Customer', 'name fidelity')\n",
    "\n",
    "class LineItem:\n",
    "    \n",
    "    def __init__(self, product, quantity, price):\n",
    "        self.product = product\n",
    "        self.quantity = quantity\n",
    "        self.price = price\n",
    "        \n",
    "    def total(self):\n",
    "        return self.quantity * self.price\n",
    "    \n",
    "class Order:\n",
    "    \n",
    "    def __init__(self, customer, cart, promotion=None):\n",
    "        self.customer = customer\n",
    "        self.cart = cart\n",
    "        self.promotion = promotion\n",
    "        \n",
    "    def total(self):\n",
    "        if not hasattr(self, '__total'):\n",
    "            self.__total = sum(item.total() for item in self.cart)\n",
    "        return self.__total\n",
    "    \n",
    "    def due(self):\n",
    "        if self.promotion is None:\n",
    "            discount = 0\n",
    "        else:\n",
    "            discount = self.promotion(self)\n",
    "        return self.total() - discount\n",
    "    \n",
    "    def __repr__(self):\n",
    "        fmt = '<Order total: {:.2f} due: {:.2f}>'\n",
    "        return fmt.format(self.total(), self.due())\n",
    "    \n",
    "def fidelity_promo(order):\n",
    "    \"\"\"5% discount for customers with 1000 or more fidelity points\"\"\"\n",
    "    return order.total() * .05 if order.customer.fidelity >= 1000 else 0\n",
    "\n",
    "def bulk_item_promo(order):\n",
    "    \"\"\"10% discount for each LineItem with 20 or more units\"\"\"\n",
    "    discount = 0\n",
    "    for item in order.cart:\n",
    "        if item.quantity >= 20:\n",
    "            discount += item.total() * .1\n",
    "    return discount\n",
    "\n",
    "def large_order_promo(order):\n",
    "    \"\"\"7% discount for orders with 10 or more distinct items\"\"\"\n",
    "    distinct_items = {item.product for item in order.cart}\n",
    "    return order.total() * .07 if len(distinct_items) >= 10 else 0"
   ]
  },
  {
   "cell_type": "markdown",
   "metadata": {},
   "source": [
    "#### Example 6-4. Sample usage of Order class with promotions as functions"
   ]
  },
  {
   "cell_type": "code",
   "execution_count": 10,
   "metadata": {},
   "outputs": [],
   "source": [
    "joe = Customer('Jone Doe', 0)\n",
    "ann = Customer('Ann Smith', 1100)\n",
    "cart = [LineItem('banana', 4, .5),\n",
    "       LineItem('apple', 10, 1.5),\n",
    "       LineItem('watermellon', 5, 5.0)]"
   ]
  },
  {
   "cell_type": "code",
   "execution_count": 11,
   "metadata": {},
   "outputs": [
    {
     "data": {
      "text/plain": [
       "<Order total: 42.00 due: 42.00>"
      ]
     },
     "execution_count": 11,
     "metadata": {},
     "output_type": "execute_result"
    }
   ],
   "source": [
    "Order(joe, cart, fidelity_promo)"
   ]
  },
  {
   "cell_type": "code",
   "execution_count": 12,
   "metadata": {},
   "outputs": [
    {
     "data": {
      "text/plain": [
       "<Order total: 42.00 due: 39.90>"
      ]
     },
     "execution_count": 12,
     "metadata": {},
     "output_type": "execute_result"
    }
   ],
   "source": [
    "Order(ann, cart, fidelity_promo)"
   ]
  },
  {
   "cell_type": "code",
   "execution_count": 13,
   "metadata": {},
   "outputs": [
    {
     "data": {
      "text/plain": [
       "<Order total: 30.00 due: 28.50>"
      ]
     },
     "execution_count": 13,
     "metadata": {},
     "output_type": "execute_result"
    }
   ],
   "source": [
    "banana_cart = [LineItem('banana', 30, .5),\n",
    "              LineItem('apple', 10, 1.5)]\n",
    "\n",
    "Order(joe, banana_cart, bulk_item_promo)"
   ]
  },
  {
   "cell_type": "code",
   "execution_count": 14,
   "metadata": {},
   "outputs": [
    {
     "data": {
      "text/plain": [
       "<Order total: 10.00 due: 9.30>"
      ]
     },
     "execution_count": 14,
     "metadata": {},
     "output_type": "execute_result"
    }
   ],
   "source": [
    "long_order = [LineItem(str(item_code), 1, 1.0) for item_code in range(10)]\n",
    "\n",
    "Order(joe, long_order, large_order_promo)"
   ]
  },
  {
   "cell_type": "code",
   "execution_count": 15,
   "metadata": {},
   "outputs": [
    {
     "data": {
      "text/plain": [
       "<Order total: 42.00 due: 42.00>"
      ]
     },
     "execution_count": 15,
     "metadata": {},
     "output_type": "execute_result"
    }
   ],
   "source": [
    "Order(joe, cart, large_order_promo)"
   ]
  },
  {
   "cell_type": "markdown",
   "metadata": {},
   "source": [
    "### Choosing the Best Strategy: Simple Approach"
   ]
  },
  {
   "cell_type": "markdown",
   "metadata": {},
   "source": [
    "#### Example 6-5. The best_promo function applies all discounts and returns the largest"
   ]
  },
  {
   "cell_type": "code",
   "execution_count": 18,
   "metadata": {},
   "outputs": [
    {
     "data": {
      "text/plain": [
       "<Order total: 10.00 due: 9.30>"
      ]
     },
     "execution_count": 18,
     "metadata": {},
     "output_type": "execute_result"
    }
   ],
   "source": [
    "Order(joe, long_order, best_promo)"
   ]
  },
  {
   "cell_type": "code",
   "execution_count": 19,
   "metadata": {},
   "outputs": [
    {
     "data": {
      "text/plain": [
       "<Order total: 30.00 due: 28.50>"
      ]
     },
     "execution_count": 19,
     "metadata": {},
     "output_type": "execute_result"
    }
   ],
   "source": [
    "Order(joe, banana_cart, best_promo)"
   ]
  },
  {
   "cell_type": "code",
   "execution_count": 20,
   "metadata": {},
   "outputs": [
    {
     "data": {
      "text/plain": [
       "<Order total: 42.00 due: 39.90>"
      ]
     },
     "execution_count": 20,
     "metadata": {},
     "output_type": "execute_result"
    }
   ],
   "source": [
    "Order(ann, cart, best_promo)"
   ]
  },
  {
   "cell_type": "markdown",
   "metadata": {},
   "source": [
    "#### Example 6-6. best_promo finds the maximum discount iterating over a list of functions"
   ]
  },
  {
   "cell_type": "code",
   "execution_count": 17,
   "metadata": {},
   "outputs": [],
   "source": [
    "promos = [fidelity_promo, bulk_item_promo, large_order_promo]\n",
    "\n",
    "def best_promo(order):\n",
    "    \"\"\"Select best discount available\"\"\"\n",
    "    return max(promo(order) for promo in promos)"
   ]
  },
  {
   "cell_type": "markdown",
   "metadata": {},
   "source": [
    "* 코드 중복 -> 버그 위험\n",
    "* 새로운 전략 추가 시 promos 리스트 재선언"
   ]
  },
  {
   "cell_type": "markdown",
   "metadata": {},
   "source": [
    "### Finding Strategies in a Module\n",
    "\n",
    "globals()로 *_promo 찾기 "
   ]
  },
  {
   "cell_type": "markdown",
   "metadata": {},
   "source": [
    "#### Example 6-7. The promos list is built by introspection of the module global namespace"
   ]
  },
  {
   "cell_type": "code",
   "execution_count": 21,
   "metadata": {},
   "outputs": [],
   "source": [
    "promos = [globals()[name] for name in globals()\n",
    "         if name.endswith('_promo') and name != 'best_promo']\n",
    "\n",
    "def best_promo(order):\n",
    "    \"\"\"Select best discount available\"\"\"\n",
    "    return max(promo(order) for promo in promos)"
   ]
  },
  {
   "cell_type": "code",
   "execution_count": 22,
   "metadata": {},
   "outputs": [
    {
     "data": {
      "text/plain": [
       "<Order total: 10.00 due: 9.30>"
      ]
     },
     "execution_count": 22,
     "metadata": {},
     "output_type": "execute_result"
    }
   ],
   "source": [
    "Order(joe, long_order, best_promo)"
   ]
  },
  {
   "cell_type": "code",
   "execution_count": 23,
   "metadata": {},
   "outputs": [
    {
     "data": {
      "text/plain": [
       "<Order total: 30.00 due: 28.50>"
      ]
     },
     "execution_count": 23,
     "metadata": {},
     "output_type": "execute_result"
    }
   ],
   "source": [
    "Order(joe, banana_cart, best_promo)"
   ]
  },
  {
   "cell_type": "code",
   "execution_count": 24,
   "metadata": {},
   "outputs": [
    {
     "data": {
      "text/plain": [
       "<Order total: 42.00 due: 39.90>"
      ]
     },
     "execution_count": 24,
     "metadata": {},
     "output_type": "execute_result"
    }
   ],
   "source": [
    "Order(ann, cart, best_promo)"
   ]
  },
  {
   "cell_type": "markdown",
   "metadata": {},
   "source": [
    "#### Example 6-8. The promos list is built by introspection of a new promotions module"
   ]
  },
  {
   "cell_type": "code",
   "execution_count": 25,
   "metadata": {},
   "outputs": [],
   "source": [
    "import inspect, promotions\n",
    "\n",
    "promos = [func for name, func in inspect.getmembers(promotions, inspect.isfunction)]\n",
    "\n",
    "def best_promo(order):\n",
    "    \"\"\"Select best discount available\"\"\"\n",
    "    return max(promo(order) for promo in promos)"
   ]
  },
  {
   "cell_type": "code",
   "execution_count": 26,
   "metadata": {},
   "outputs": [
    {
     "data": {
      "text/plain": [
       "<Order total: 10.00 due: 9.30>"
      ]
     },
     "execution_count": 26,
     "metadata": {},
     "output_type": "execute_result"
    }
   ],
   "source": [
    "Order(joe, long_order, best_promo)"
   ]
  },
  {
   "cell_type": "code",
   "execution_count": 27,
   "metadata": {},
   "outputs": [
    {
     "data": {
      "text/plain": [
       "<Order total: 30.00 due: 28.50>"
      ]
     },
     "execution_count": 27,
     "metadata": {},
     "output_type": "execute_result"
    }
   ],
   "source": [
    "Order(joe, banana_cart, best_promo)"
   ]
  },
  {
   "cell_type": "code",
   "execution_count": 28,
   "metadata": {},
   "outputs": [
    {
     "data": {
      "text/plain": [
       "<Order total: 42.00 due: 39.90>"
      ]
     },
     "execution_count": 28,
     "metadata": {},
     "output_type": "execute_result"
    }
   ],
   "source": [
    "Order(ann, cart, best_promo)"
   ]
  },
  {
   "cell_type": "markdown",
   "metadata": {},
   "source": [
    "## Command"
   ]
  },
  {
   "cell_type": "markdown",
   "metadata": {},
   "source": [
    "[명령 디자인 패턴 UML class diagram](https://upload.wikimedia.org/wikipedia/commons/8/8e/Command_Design_Pattern_Class_Diagram.png)"
   ]
  },
  {
   "cell_type": "markdown",
   "metadata": {},
   "source": [
    "#### Example 6-9. Each instacne of MacroCommand has an internal list of commands"
   ]
  },
  {
   "cell_type": "code",
   "execution_count": 29,
   "metadata": {},
   "outputs": [],
   "source": [
    "class MacroCommand:\n",
    "    \"\"\"A command that executes a list of commands\"\"\"\n",
    "    \n",
    "    def __init__(self, commands):\n",
    "        self.commands = list(commands)\n",
    "    \n",
    "    def __call__(self):\n",
    "        for command in self.commands:\n",
    "            command()"
   ]
  },
  {
   "cell_type": "code",
   "execution_count": null,
   "metadata": {},
   "outputs": [],
   "source": []
  }
 ],
 "metadata": {
  "kernelspec": {
   "display_name": "Python 3",
   "language": "python",
   "name": "python3"
  },
  "language_info": {
   "codemirror_mode": {
    "name": "ipython",
    "version": 3
   },
   "file_extension": ".py",
   "mimetype": "text/x-python",
   "name": "python",
   "nbconvert_exporter": "python",
   "pygments_lexer": "ipython3",
   "version": "3.7.4"
  }
 },
 "nbformat": 4,
 "nbformat_minor": 2
}
